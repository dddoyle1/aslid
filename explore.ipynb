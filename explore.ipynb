{
 "cells": [
  {
   "cell_type": "code",
   "execution_count": null,
   "metadata": {},
   "outputs": [],
   "source": [
    "\n",
    "import aslid.model as model\n",
    "import aslid.data as data\n",
    "import numpy as np\n",
    "\n",
    "from sktime.classification.hybrid import HIVECOTEV2\n",
    "from sktime.classification.kernel_based import RocketClassifier\n",
    "from sklearn.model_selection import train_test_split\n",
    "\n",
    "#import matplotlib.pyplot as plt\n",
    "import aslid.transformer_model as transformer_model"
   ]
  },
  {
   "cell_type": "code",
   "execution_count": null,
   "metadata": {},
   "outputs": [],
   "source": [
    "X, Y = data.load_training_data('data/train.csv', 'data/sign_to_prediction_index_map.json', limit=1000)\n",
    "X = data.make_uniform(X, model.FRAMES)"
   ]
  },
  {
   "cell_type": "code",
   "execution_count": null,
   "metadata": {},
   "outputs": [],
   "source": [
    "print('N, frames, landmarks, coordinates')\n",
    "print(X.shape)"
   ]
  },
  {
   "cell_type": "code",
   "execution_count": null,
   "metadata": {},
   "outputs": [],
   "source": [
    "pipeline = model.PreprocessingPipeline(verbose=True)\n",
    "\n",
    "X = pipeline.fit_transform(X)\n",
    "X_train, X_test, Y_train, Y_test = train_test_split(X, Y, train_size=0.4, random_state=1)\n"
   ]
  },
  {
   "cell_type": "code",
   "execution_count": null,
   "metadata": {},
   "outputs": [],
   "source": [
    "print(\"N, features, frames\")\n",
    "print(X.shape)"
   ]
  },
  {
   "cell_type": "code",
   "execution_count": null,
   "metadata": {},
   "outputs": [],
   "source": [
    "batch_size = 10\n",
    "input_shape=(X.shape[1:])\n",
    "print(input_shape)\n",
    "classifier = transformer_model.TransformerNetwork(\n",
    "    input_shape=input_shape,\n",
    "    n_classes=250,\n",
    "    head_size=X.shape[1],\n",
    "    num_heads=X.shape[1],\n",
    "    ff_dim=4,\n",
    "    num_transformer_blocks=2,\n",
    "    mlp_units=[8],\n",
    "    mlp_dropout=0.4,\n",
    "    dropout=0.25,\n",
    ")\n",
    "\n",
    "classifier.compile_args(loss=\"sparse_categorical_crossentropy\",)\n",
    "\n",
    "#classifier = RocketClassifier()\n",
    "classifier.fit(X_train,Y_train)"
   ]
  },
  {
   "cell_type": "code",
   "execution_count": null,
   "metadata": {},
   "outputs": [],
   "source": [
    "sign = classifier.predict(X_test)\n",
    "accuracy = sum(sign == Y_test) / len(Y_test)"
   ]
  },
  {
   "cell_type": "code",
   "execution_count": null,
   "metadata": {},
   "outputs": [],
   "source": [
    "accuracy"
   ]
  },
  {
   "cell_type": "code",
   "execution_count": null,
   "metadata": {},
   "outputs": [],
   "source": []
  }
 ],
 "metadata": {
  "kernelspec": {
   "display_name": "base",
   "language": "python",
   "name": "python3"
  },
  "language_info": {
   "codemirror_mode": {
    "name": "ipython",
    "version": 3
   },
   "file_extension": ".py",
   "mimetype": "text/x-python",
   "name": "python",
   "nbconvert_exporter": "python",
   "pygments_lexer": "ipython3",
   "version": "3.10.6"
  },
  "orig_nbformat": 4,
  "vscode": {
   "interpreter": {
    "hash": "951182d8dbb58b547fdeca05ad30e9ec800736ed3bac05ccd98e7b6f2e59da18"
   }
  }
 },
 "nbformat": 4,
 "nbformat_minor": 2
}
